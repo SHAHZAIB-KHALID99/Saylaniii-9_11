{
 "cells": [
  {
   "cell_type": "markdown",
   "id": "f7c4c306-724c-430f-9a73-65beaa9f0e26",
   "metadata": {},
   "source": [
    "Scenario 1: Grocery Shopping List\n",
    "You are creating a program to manage a grocery shopping list. Users should be able to add items,\n",
    "remove items, and display the current list."
   ]
  },
  {
   "cell_type": "code",
   "execution_count": 37,
   "id": "83dc54bd-af10-409d-94eb-3281f5e0b62f",
   "metadata": {},
   "outputs": [
    {
     "name": "stdin",
     "output_type": "stream",
     "text": [
      "No of items= 2\n",
      "enter your item : \n",
      " milkk\n",
      "enter your item : \n",
      " sugar\n"
     ]
    },
    {
     "name": "stdout",
     "output_type": "stream",
     "text": [
      "['milkk', 'sugar']\n"
     ]
    },
    {
     "name": "stdin",
     "output_type": "stream",
     "text": [
      "are  you sure you want to update any thing (yes/no): yes\n",
      "enter your item update: \n",
      " tea\n"
     ]
    },
    {
     "name": "stdout",
     "output_type": "stream",
     "text": [
      "['milkk', 'sugar', 'tea']\n"
     ]
    },
    {
     "name": "stdin",
     "output_type": "stream",
     "text": [
      "are  you sure you want to remmove any thing (yes/no): yes\n",
      "enter your item remove : \n",
      " sugar\n"
     ]
    },
    {
     "name": "stdout",
     "output_type": "stream",
     "text": [
      "['milkk', 'tea']\n",
      "['milkk', 'tea']\n"
     ]
    }
   ],
   "source": [
    "shopping_list = []\n",
    "n = int(input('No of items='))\n",
    "for i in range(n):\n",
    "    k = input(\"enter your item : \\n\")\n",
    "    shopping_list.append(k)\n",
    "print(shopping_list)\n",
    "\n",
    "upd_item = input(\"are  you sure you want to update any thing (yes/no):\")\n",
    "if upd_item == \"yes\":\n",
    "     k = str(input(\"enter your item update: \\n\"))\n",
    "     shopping_list.append(k)\n",
    "     print(shopping_list)\n",
    "else:\n",
    "    print(\"this is yours shoppingg lisst\")\n",
    "\n",
    "remove_item = input(\"are  you sure you want to remmove any thing (yes/no):\")\n",
    "if remove_item == \"yes\":\n",
    "     r= str(input(\"enter your item remove : \\n\"))\n",
    "     shopping_list.remove(r)\n",
    "     print(shopping_list)\n",
    "else:\n",
    "    print(\"this is yours shoppingg lisst\")\n",
    "\n"
   ]
  },
  {
   "cell_type": "markdown",
   "id": "a637dfd0-c2ed-4913-89b0-e104fde86031",
   "metadata": {},
   "source": [
    "Scenario 2: Student Grades\n",
    "You are managing student grades using a dictionary. You need to calculate the average grade.take\n",
    "atleast 5 Students grades & then calculate the average.\n"
   ]
  },
  {
   "cell_type": "code",
   "execution_count": null,
   "id": "1baeac38-8d2f-40a2-a7ca-7999c3ddff54",
   "metadata": {},
   "outputs": [],
   "source": [
    "grades"
   ]
  },
  {
   "cell_type": "markdown",
   "id": "01229a1a-de50-42f6-b066-a9116e14cc12",
   "metadata": {},
   "source": [
    "Scenario 3: Word Frequency Counter\n",
    "You are given a list of words, and you need to count the frequency of each word.\n",
    "word_list = [\"apple\", \"banana\", \"apple\", \"orange\", \"banana\", \"grape\", \"apple\"]\n"
   ]
  },
  {
   "cell_type": "code",
   "execution_count": 38,
   "id": "bec16026-66f0-46e9-9757-de35166069c9",
   "metadata": {},
   "outputs": [
    {
     "name": "stdout",
     "output_type": "stream",
     "text": [
      "apple: 3 times\n",
      "banana: 2 times\n",
      "orange: 1 times\n",
      "grape: 1 times\n"
     ]
    }
   ],
   "source": [
    "word_list = [\"apple\", \"banana\", \"apple\", \"orange\", \"banana\", \"grape\", \"apple\"]\n",
    "fruit_frequency = {}\n",
    "for fruit in word_list:\n",
    "    if fruit in fruit_frequency:\n",
    "        fruit_frequency[fruit] +=1\n",
    "    else:\n",
    "        fruit_frequency[fruit] =1\n",
    "\n",
    "for fruit, frequency in fruit_frequency.items():\n",
    "    print(f\"{fruit}: {frequency} times\")"
   ]
  },
  {
   "cell_type": "markdown",
   "id": "09250374-9a32-4348-9fab-6213ca079364",
   "metadata": {},
   "source": [
    "Scenario 3: Password Strength Checker\n",
    "You are creating a program to check the strength of passwords based on certain criteria.\n",
    "• Password should be at least 8 characters long.\n",
    "• Password should contain at least one digit.\n",
    "• Password should contain at least one letter.\n"
   ]
  },
  {
   "cell_type": "code",
   "execution_count": 28,
   "id": "4ca49404-907e-4e26-8084-cf1459e7daf8",
   "metadata": {},
   "outputs": [
    {
     "name": "stdin",
     "output_type": "stream",
     "text": [
      "Enter your password:  ssahzaibA1\n"
     ]
    },
    {
     "name": "stdout",
     "output_type": "stream",
     "text": [
      "Password is strong!\n"
     ]
    }
   ],
   "source": [
    "def is_password_strong(password):\n",
    "    if len(password) < 8:\n",
    "        return False\n",
    "    if not any(char.isdigit() for char in password):\n",
    "        return False\n",
    "    if not any(char.isalpha() for char in password):\n",
    "        return False\n",
    "    return True\n",
    "\n",
    "password = input(\"Enter your password: \")\n",
    "if is_password_strong(password):\n",
    "    print(\"Password is strong!\")\n",
    "else:\n",
    "    print(\"Password is not strong. Please make sure it is at least 8 characters long, contains at least one digit, and at least one letter.\")\n",
    "\n",
    "\n"
   ]
  },
  {
   "cell_type": "markdown",
   "id": "ff4357e4-9676-4f5b-940f-e3f0fe1a63fc",
   "metadata": {},
   "source": [
    "Scenario 04: Voting System (Annual Employee Recognition Awards)\n",
    "You are developing a simple voting system for a contest. Users can vote for their Favorite option, and\n",
    "you need to count the votes.\n",
    "In a corporate setting, the HR department is organizing the Annual Employee Recognition Awards,\n",
    "where employees get the opportunity to vote for their colleagues nominated in different categories.\n",
    "The HR team has decided to use a simple voting system to collect and tally votes for the nominees in\n",
    "various award categories. The script provided will be utilized for this purpose.\n",
    "Candidates: The nominees for different award categories, such as \"Employee of the Year,\" \"Team\n",
    "Player of the Year,\" and \"Innovation Award,\" are represented by the list of candidates: 'Candidate A,'\n",
    "'Candidate B,' and 'Candidate C.'\n",
    "Voting Process: Employees are requested to input the number of voters participating in the awards.\n",
    "Each voter is presented with a list of nominees, and they can vote for their preferred candidate by\n",
    "entering the corresponding number.\n",
    "Validation: The script ensures that the entered vote is within the valid range of candidates. If an\n",
    "employee enters an invalid vote, the system prompts them to choose a valid candidate.\n",
    "Recording Votes: The script records each vote for the selected candidate and prints a confirmation\n",
    "message indicating that the vote has been recorded."
   ]
  },
  {
   "cell_type": "code",
   "execution_count": 41,
   "id": "ddd85a25-b6c2-47f3-a356-f4fbaebaa553",
   "metadata": {},
   "outputs": [
    {
     "name": "stdin",
     "output_type": "stream",
     "text": [
      "no of voters 3\n"
     ]
    },
    {
     "name": "stdout",
     "output_type": "stream",
     "text": [
      "1.['canidate A']\n",
      "2.['canidate B']\n",
      "3.['canidate C']\n"
     ]
    },
    {
     "name": "stdin",
     "output_type": "stream",
     "text": [
      "your choise 1\n"
     ]
    },
    {
     "name": "stdout",
     "output_type": "stream",
     "text": [
      "you voted ['canidate A']\n",
      "your vote has been recorded .........\n",
      "1.['canidate A']\n",
      "2.['canidate B']\n",
      "3.['canidate C']\n"
     ]
    },
    {
     "name": "stdin",
     "output_type": "stream",
     "text": [
      "your choise 1\n"
     ]
    },
    {
     "name": "stdout",
     "output_type": "stream",
     "text": [
      "you voted ['canidate A']\n",
      "your vote has been recorded .........\n",
      "1.['canidate A']\n",
      "2.['canidate B']\n",
      "3.['canidate C']\n"
     ]
    },
    {
     "name": "stdin",
     "output_type": "stream",
     "text": [
      "your choise 3\n"
     ]
    },
    {
     "name": "stdout",
     "output_type": "stream",
     "text": [
      "you voted ['canidate C']\n",
      "your vote has been recorded .........\n",
      "['canidate A']  won the election with 2 votes\n"
     ]
    }
   ],
   "source": [
    "canidates_1 = ['canidate A',] \n",
    "canidates_2 = ['canidate B',] \n",
    "canidates_3 = ['canidate C',]\n",
    "\n",
    "canidate_A_votes =0\n",
    "canidate_B_votes =0\n",
    "canidate_c_votes =0\n",
    "no_of_voters = int(input(\"no of voters\"))\n",
    "for i in range(no_of_voters):\n",
    "    k = print(f\"1.{canidates_1}\\n2.{canidates_2}\\n3.{canidates_3}\")\n",
    "    choise = int(input(\"your choise\"))\n",
    "    if choise ==1:\n",
    "        canidate_A_votes+=1\n",
    "        print(f\"you voted {canidates_1}\")\n",
    "        print(\"your vote has been recorded .........\")\n",
    "    elif choise ==2:\n",
    "        canidate_B_votes+=1\n",
    "        print(f\"you voted {canidates_2}\")\n",
    "        print(\"your vote has been recorded .........\")\n",
    "    elif choise ==3:\n",
    "        canidate_c_votes+=1\n",
    "        print(f\"you voted {canidates_3}\")\n",
    "        print(\"your vote has been recorded .........\")\n",
    "   \n",
    "    if canidate_A_votes>canidate_B_votes and canidate_c_votes:\n",
    "        print(f\"{canidates_1}  won the election with {canidate_A_votes} votes\")\n",
    "    elif canidate_B_votes>canidate_A_votes and canidate_c_votes:\n",
    "        print(f\"{canidates_2}  won the election with {canidate_B_votes} votes\")\n",
    "    elif canidate_c_votes>canidate_A_votes and canidate_B_votes:\n",
    "        print(f\"{canidates_2}  won the election with {canidate_c_votes} votes\")    \n",
    "        \n",
    "    elif canidate_A_votes == canidate_B_votes and canidate_c_votes :\n",
    "        print(\"tied!!!\")\n",
    "  \n",
    "        \n",
    "\n",
    "\n",
    "\n",
    "\n",
    "    \n"
   ]
  },
  {
   "cell_type": "code",
   "execution_count": null,
   "id": "a254414e-dc5a-4110-99b5-448fa37e1f29",
   "metadata": {},
   "outputs": [],
   "source": []
  },
  {
   "cell_type": "code",
   "execution_count": null,
   "id": "0864b202-f803-4aa1-9a32-b2f0a3a12e3e",
   "metadata": {},
   "outputs": [],
   "source": [
    "\n"
   ]
  },
  {
   "cell_type": "code",
   "execution_count": null,
   "id": "6b4fd6ca-c701-46d1-85c7-d162ca2cb1e7",
   "metadata": {},
   "outputs": [],
   "source": []
  },
  {
   "cell_type": "code",
   "execution_count": null,
   "id": "15d9aa78-5989-4cc4-a888-374cfa735224",
   "metadata": {},
   "outputs": [],
   "source": []
  },
  {
   "cell_type": "code",
   "execution_count": null,
   "id": "44fe3635-a9d6-411b-be04-6bac27ca6446",
   "metadata": {},
   "outputs": [],
   "source": []
  },
  {
   "cell_type": "code",
   "execution_count": null,
   "id": "fe0f7451-6528-4d8a-9f2c-0c39b4e4cbd8",
   "metadata": {},
   "outputs": [],
   "source": []
  },
  {
   "cell_type": "code",
   "execution_count": null,
   "id": "d47e45df-690a-4f6a-ab00-1800de6b6f7c",
   "metadata": {},
   "outputs": [],
   "source": []
  }
 ],
 "metadata": {
  "kernelspec": {
   "display_name": "Python 3 (ipykernel)",
   "language": "python",
   "name": "python3"
  },
  "language_info": {
   "codemirror_mode": {
    "name": "ipython",
    "version": 3
   },
   "file_extension": ".py",
   "mimetype": "text/x-python",
   "name": "python",
   "nbconvert_exporter": "python",
   "pygments_lexer": "ipython3",
   "version": "3.12.1"
  },
  "widgets": {
   "application/vnd.jupyter.widget-state+json": {
    "state": {},
    "version_major": 2,
    "version_minor": 0
   }
  }
 },
 "nbformat": 4,
 "nbformat_minor": 5
}
