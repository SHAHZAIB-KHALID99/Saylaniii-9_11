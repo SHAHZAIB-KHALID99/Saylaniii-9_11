{
 "cells": [
  {
   "cell_type": "markdown",
   "id": "3df627d7-1158-4759-b3b7-e343e1a48dd6",
   "metadata": {},
   "source": [
    "1) A company decided to give bonus of 5% to employee if his/her year of service is more than 5 years. Ask user for their salary and year of\n",
    "service and print the net bonus amount."
   ]
  },
  {
   "cell_type": "code",
   "execution_count": 12,
   "id": "43926f3a-f014-4bdd-b3cb-2e63ce070761",
   "metadata": {},
   "outputs": [
    {
     "name": "stdin",
     "output_type": "stream",
     "text": [
      "Please enter your salary:  100000\n",
      "Please enter the number of years you've worked:  6\n"
     ]
    },
    {
     "name": "stdout",
     "output_type": "stream",
     "text": [
      "Congratulations! You qualify for a 5% bonus.\n",
      "The net bonus amount is: $5000.00\n"
     ]
    }
   ],
   "source": [
    "\n",
    "salary = float(input(\"Please enter your salary: \"))\n",
    "\n",
    "\n",
    "years_of_service = int(input(\"Please enter the number of years you've worked: \"))\n",
    "\n",
    "\n",
    "if years_of_service > 5:\n",
    "    bonus_percentage = 5  # 5% bonus\n",
    "    bonus_amount = (bonus_percentage / 100) * salary\n",
    "    print(f\"Congratulations! You qualify for a {bonus_percentage}% bonus.\")\n",
    "    print(f\"The net bonus amount is: ${bonus_amount:.2f}\")\n",
    "else:\n",
    "    print(\"Sorry, you do not qualify for a bonus.\")"
   ]
  },
  {
   "cell_type": "markdown",
   "id": "61f729d8-35ae-435a-947e-1f008d7e5a6a",
   "metadata": {},
   "source": [
    "2) Write a program to check whether a person is eligible for voting or not. (accept age from user) if age is greater than 17 eligible otherwise not\n",
    "eligible\n",
    "  \n"
   ]
  },
  {
   "cell_type": "code",
   "execution_count": 13,
   "id": "79305dd6-b488-40bb-8418-0bca79785ec9",
   "metadata": {},
   "outputs": [
    {
     "name": "stdin",
     "output_type": "stream",
     "text": [
      "Please enter your age:  19\n"
     ]
    },
    {
     "name": "stdout",
     "output_type": "stream",
     "text": [
      "Congratulations! You are eligible for voting.\n"
     ]
    }
   ],
   "source": [
    "\n",
    "age = int(input(\"Please enter your age: \"))\n",
    "\n",
    "\n",
    "if age > 17:\n",
    "    print(\"Congratulations! You are eligible for voting.\")\n",
    "else:\n",
    "    print(\"Sorry, you are not eligible for voting.\")"
   ]
  },
  {
   "cell_type": "markdown",
   "id": "28a99403-c701-4730-a31b-fda28ee266e4",
   "metadata": {},
   "source": [
    "3) Write a program to check whether a number entered by user is even or odd.\n"
   ]
  },
  {
   "cell_type": "code",
   "execution_count": 19,
   "id": "2f32f1fb-960e-4319-8bae-2ef7d1800ec5",
   "metadata": {},
   "outputs": [
    {
     "name": "stdin",
     "output_type": "stream",
     "text": [
      "Please enter a number:  20\n"
     ]
    },
    {
     "name": "stdout",
     "output_type": "stream",
     "text": [
      "The number is even.\n"
     ]
    }
   ],
   "source": [
    "\n",
    "number = int(input(\"Please enter a number: \"))\n",
    "\n",
    "\n",
    "if number % 2 == 0:\n",
    "    print(\"The number is even.\")\n",
    "else:\n",
    "    print(\"The number  is odd.\")"
   ]
  },
  {
   "cell_type": "markdown",
   "id": "2f07e563-a310-49ef-a376-a51a83e16f5a",
   "metadata": {},
   "source": [
    "4) Write a program to check whether a number is divisible by 7 or not. Show Answer"
   ]
  },
  {
   "cell_type": "code",
   "execution_count": 20,
   "id": "1dfbfed9-b0f8-47f6-8972-8d47a8f6978e",
   "metadata": {},
   "outputs": [
    {
     "name": "stdin",
     "output_type": "stream",
     "text": [
      "Please enter a number:  7\n"
     ]
    },
    {
     "name": "stdout",
     "output_type": "stream",
     "text": [
      "The number is divisible by 7.\n"
     ]
    }
   ],
   "source": [
    "\n",
    "number = int(input(\"Please enter a number: \"))\n",
    "\n",
    "if number % 7 == 0:\n",
    "    print(f\"The number is divisible by 7.\")\n",
    "else:\n",
    "    print(f\"The number is not divisible by 7.\")"
   ]
  },
  {
   "cell_type": "markdown",
   "id": "d4d86ba4-9e47-48b9-ad5f-2ba06c17a94e",
   "metadata": {},
   "source": [
    "5) Write a program to display \"Hello\" if a number entered by user is a multiple of five , otherwise print \"Bye\""
   ]
  },
  {
   "cell_type": "code",
   "execution_count": 22,
   "id": "112f228a-1488-485b-9683-c91a3435f30a",
   "metadata": {},
   "outputs": [
    {
     "name": "stdin",
     "output_type": "stream",
     "text": [
      "Please enter a number:  15\n"
     ]
    },
    {
     "name": "stdout",
     "output_type": "stream",
     "text": [
      "Hello\n"
     ]
    }
   ],
   "source": [
    "number = int(input(\"Please enter a number: \"))\n",
    "if number % 5 == 0:\n",
    "    print(\"Hello\")\n",
    "else:\n",
    "    print(\"Bye\")"
   ]
  },
  {
   "cell_type": "markdown",
   "id": "aa330598-a855-4d5f-a069-1dcb2e2cf401",
   "metadata": {},
   "source": [
    "7) Write a program to display the last digit of a number."
   ]
  },
  {
   "cell_type": "code",
   "execution_count": 23,
   "id": "06e0b4b1-e3db-448b-811b-a272c2fb50e1",
   "metadata": {},
   "outputs": [
    {
     "name": "stdin",
     "output_type": "stream",
     "text": [
      "Please enter a number:  11101\n"
     ]
    },
    {
     "name": "stdout",
     "output_type": "stream",
     "text": [
      "The last digit of the number is: 1\n"
     ]
    }
   ],
   "source": [
    "number = int(input(\"Please enter a number: \"))\n",
    "last_digit = number % 10\n",
    "print(f\"The last digit of the number is: {last_digit}\")"
   ]
  },
  {
   "cell_type": "markdown",
   "id": "26f3b674-84fe-49d7-add3-0461916c780e",
   "metadata": {},
   "source": [
    "Q8. Write a program to check whether the last digit of a number( entered by user ) is divisible by 3 or not"
   ]
  },
  {
   "cell_type": "code",
   "execution_count": 27,
   "id": "6fc7cea3-5467-44c1-8a1e-671ac5effd3f",
   "metadata": {},
   "outputs": [
    {
     "name": "stdin",
     "output_type": "stream",
     "text": [
      "Please enter a number:  7\n"
     ]
    },
    {
     "name": "stdout",
     "output_type": "stream",
     "text": [
      "The last digit of the number 7 is not divisible by 3.\n"
     ]
    }
   ],
   "source": [
    "number = int(input(\"Please enter a number: \"))\n",
    "last_digit = number % 10\n",
    "if last_digit % 3 == 0:\n",
    "    print(f\"The last digit of the number {number} is divisible by 3.\")\n",
    "else:\n",
    "    print(f\"The last digit of the number {number} is not divisible by 3.\")"
   ]
  },
  {
   "cell_type": "code",
   "execution_count": null,
   "id": "1bf92ad7-e6ec-4cfc-a347-6a9fd1e5db2f",
   "metadata": {},
   "outputs": [],
   "source": []
  }
 ],
 "metadata": {
  "kernelspec": {
   "display_name": "Python 3 (ipykernel)",
   "language": "python",
   "name": "python3"
  },
  "language_info": {
   "codemirror_mode": {
    "name": "ipython",
    "version": 3
   },
   "file_extension": ".py",
   "mimetype": "text/x-python",
   "name": "python",
   "nbconvert_exporter": "python",
   "pygments_lexer": "ipython3",
   "version": "3.12.1"
  }
 },
 "nbformat": 4,
 "nbformat_minor": 5
}
