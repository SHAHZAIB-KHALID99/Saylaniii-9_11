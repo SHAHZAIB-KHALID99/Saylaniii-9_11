{
 "cells": [
  {
   "cell_type": "markdown",
   "id": "3df627d7-1158-4759-b3b7-e343e1a48dd6",
   "metadata": {},
   "source": [
    "1) A company decided to give bonus of 5% to employee if his/her year of service is more than 5 years. Ask user for their salary and year of\n",
    "service and print the net bonus amount."
   ]
  },
  {
   "cell_type": "code",
   "execution_count": 12,
   "id": "43926f3a-f014-4bdd-b3cb-2e63ce070761",
   "metadata": {},
   "outputs": [
    {
     "name": "stdin",
     "output_type": "stream",
     "text": [
      "Please enter your salary:  100000\n",
      "Please enter the number of years you've worked:  6\n"
     ]
    },
    {
     "name": "stdout",
     "output_type": "stream",
     "text": [
      "Congratulations! You qualify for a 5% bonus.\n",
      "The net bonus amount is: $5000.00\n"
     ]
    }
   ],
   "source": [
    "\n",
    "salary = float(input(\"Please enter your salary: \"))\n",
    "\n",
    "\n",
    "years_of_service = int(input(\"Please enter the number of years you've worked: \"))\n",
    "\n",
    "\n",
    "if years_of_service > 5:\n",
    "    bonus_percentage = 5  # 5% bonus\n",
    "    bonus_amount = (bonus_percentage / 100) * salary\n",
    "    print(f\"Congratulations! You qualify for a {bonus_percentage}% bonus.\")\n",
    "    print(f\"The net bonus amount is: ${bonus_amount:.2f}\")\n",
    "else:\n",
    "    print(\"Sorry, you do not qualify for a bonus.\")"
   ]
  },
  {
   "cell_type": "markdown",
   "id": "61f729d8-35ae-435a-947e-1f008d7e5a6a",
   "metadata": {},
   "source": [
    "2) Write a program to check whether a person is eligible for voting or not. (accept age from user) if age is greater than 17 eligible otherwise not\n",
    "eligible\n",
    "  \n"
   ]
  },
  {
   "cell_type": "code",
   "execution_count": 13,
   "id": "79305dd6-b488-40bb-8418-0bca79785ec9",
   "metadata": {},
   "outputs": [
    {
     "name": "stdin",
     "output_type": "stream",
     "text": [
      "Please enter your age:  19\n"
     ]
    },
    {
     "name": "stdout",
     "output_type": "stream",
     "text": [
      "Congratulations! You are eligible for voting.\n"
     ]
    }
   ],
   "source": [
    "\n",
    "age = int(input(\"Please enter your age: \"))\n",
    "\n",
    "\n",
    "if age > 17:\n",
    "    print(\"Congratulations! You are eligible for voting.\")\n",
    "else:\n",
    "    print(\"Sorry, you are not eligible for voting.\")"
   ]
  },
  {
   "cell_type": "markdown",
   "id": "28a99403-c701-4730-a31b-fda28ee266e4",
   "metadata": {},
   "source": [
    "3) Write a program to check whether a number entered by user is even or odd.\n"
   ]
  },
  {
   "cell_type": "code",
   "execution_count": 19,
   "id": "2f32f1fb-960e-4319-8bae-2ef7d1800ec5",
   "metadata": {},
   "outputs": [
    {
     "name": "stdin",
     "output_type": "stream",
     "text": [
      "Please enter a number:  20\n"
     ]
    },
    {
     "name": "stdout",
     "output_type": "stream",
     "text": [
      "The number is even.\n"
     ]
    }
   ],
   "source": [
    "\n",
    "number = int(input(\"Please enter a number: \"))\n",
    "\n",
    "\n",
    "if number % 2 == 0:\n",
    "    print(\"The number is even.\")\n",
    "else:\n",
    "    print(\"The number  is odd.\")"
   ]
  },
  {
   "cell_type": "markdown",
   "id": "2f07e563-a310-49ef-a376-a51a83e16f5a",
   "metadata": {},
   "source": [
    "4) Write a program to check whether a number is divisible by 7 or not. Show Answer"
   ]
  },
  {
   "cell_type": "code",
   "execution_count": 20,
   "id": "1dfbfed9-b0f8-47f6-8972-8d47a8f6978e",
   "metadata": {},
   "outputs": [
    {
     "name": "stdin",
     "output_type": "stream",
     "text": [
      "Please enter a number:  7\n"
     ]
    },
    {
     "name": "stdout",
     "output_type": "stream",
     "text": [
      "The number is divisible by 7.\n"
     ]
    }
   ],
   "source": [
    "\n",
    "number = int(input(\"Please enter a number: \"))\n",
    "\n",
    "if number % 7 == 0:\n",
    "    print(f\"The number is divisible by 7.\")\n",
    "else:\n",
    "    print(f\"The number is not divisible by 7.\")"
   ]
  },
  {
   "cell_type": "markdown",
   "id": "d4d86ba4-9e47-48b9-ad5f-2ba06c17a94e",
   "metadata": {},
   "source": [
    "5) Write a program to display \"Hello\" if a number entered by user is a multiple of five , otherwise print \"Bye\""
   ]
  },
  {
   "cell_type": "code",
   "execution_count": 22,
   "id": "112f228a-1488-485b-9683-c91a3435f30a",
   "metadata": {},
   "outputs": [
    {
     "name": "stdin",
     "output_type": "stream",
     "text": [
      "Please enter a number:  15\n"
     ]
    },
    {
     "name": "stdout",
     "output_type": "stream",
     "text": [
      "Hello\n"
     ]
    }
   ],
   "source": [
    "number = int(input(\"Please enter a number: \"))\n",
    "if number % 5 == 0:\n",
    "    print(\"Hello\")\n",
    "else:\n",
    "    print(\"Bye\")"
   ]
  },
  {
   "cell_type": "markdown",
   "id": "aa330598-a855-4d5f-a069-1dcb2e2cf401",
   "metadata": {},
   "source": [
    "7) Write a program to display the last digit of a number."
   ]
  },
  {
   "cell_type": "code",
   "execution_count": 23,
   "id": "06e0b4b1-e3db-448b-811b-a272c2fb50e1",
   "metadata": {},
   "outputs": [
    {
     "name": "stdin",
     "output_type": "stream",
     "text": [
      "Please enter a number:  11101\n"
     ]
    },
    {
     "name": "stdout",
     "output_type": "stream",
     "text": [
      "The last digit of the number is: 1\n"
     ]
    }
   ],
   "source": [
    "number = int(input(\"Please enter a number: \"))\n",
    "last_digit = number % 10\n",
    "print(f\"The last digit of the number is: {last_digit}\")"
   ]
  },
  {
   "cell_type": "markdown",
   "id": "26f3b674-84fe-49d7-add3-0461916c780e",
   "metadata": {},
   "source": [
    "Q8. Write a program to check whether the last digit of a number( entered by user ) is divisible by 3 or not"
   ]
  },
  {
   "cell_type": "code",
   "execution_count": 27,
   "id": "6fc7cea3-5467-44c1-8a1e-671ac5effd3f",
   "metadata": {},
   "outputs": [
    {
     "name": "stdin",
     "output_type": "stream",
     "text": [
      "Please enter a number:  7\n"
     ]
    },
    {
     "name": "stdout",
     "output_type": "stream",
     "text": [
      "The last digit of the number 7 is not divisible by 3.\n"
     ]
    }
   ],
   "source": [
    "number = int(input(\"Please enter a number: \"))\n",
    "last_digit = number % 10\n",
    "if last_digit % 3 == 0:\n",
    "    print(f\"The last digit of the number {number} is divisible by 3.\")\n",
    "else:\n",
    "    print(f\"The last digit of the number {number} is not divisible by 3.\")"
   ]
  },
  {
   "cell_type": "markdown",
   "id": "1609e628-a38b-48d6-9bf4-b2a49a327e69",
   "metadata": {},
   "source": [
    "9) Take values of length and breadth of a rectangle from user and print if it is square or rectangle"
   ]
  },
  {
   "cell_type": "code",
   "execution_count": 3,
   "id": "44a398c0-ab23-434e-95f8-6ad3d54ffc44",
   "metadata": {},
   "outputs": [
    {
     "name": "stdin",
     "output_type": "stream",
     "text": [
      "Enter the length of the rectangle:  10000\n",
      "Enter the breadth of the rectangle:  20000\n"
     ]
    },
    {
     "name": "stdout",
     "output_type": "stream",
     "text": [
      "It is a rectangle.\n"
     ]
    }
   ],
   "source": [
    "length = float(input(\"Enter the length of the rectangle: \"))\n",
    "breadth = float(input(\"Enter the breadth of the rectangle: \"))\n",
    "if length == breadth:\n",
    "    print(\"It is a square.\")\n",
    "else:\n",
    "    print(\"It is a rectangle.\")"
   ]
  },
  {
   "cell_type": "markdown",
   "id": "bc159803-a89d-45ec-92e7-488139bfc9c9",
   "metadata": {},
   "source": [
    "10) Take two int values from user and print greatest among them."
   ]
  },
  {
   "cell_type": "code",
   "execution_count": 8,
   "id": "d552af96-b6e6-4108-bdce-d840190bad6d",
   "metadata": {},
   "outputs": [
    {
     "name": "stdin",
     "output_type": "stream",
     "text": [
      "Enter the first integer:  2000\n",
      "Enter the second integer:  1000\n"
     ]
    },
    {
     "name": "stdout",
     "output_type": "stream",
     "text": [
      "The greatest number is: 2000\n"
     ]
    }
   ],
   "source": [
    "number1 = int(input(\"Enter the first integer: \"))\n",
    "number2 = int(input(\"Enter the second integer: \"))\n",
    "if number1 > number2:\n",
    "    print(f\"The greatest number is: {number1}\")\n",
    "elif number2 > number1:\n",
    "    print(f\"The greatest number is: {number2}\")\n",
    "else:\n",
    "    print(f\"Both numbers are equal.\")"
   ]
  },
  {
   "cell_type": "markdown",
   "id": "2c8595d2-eeee-49e0-a538-5b8951be60b2",
   "metadata": {},
   "source": [
    "11) A shop will give discount of 10% if the cost of purchased quantity is more than 1000. Ask user for quantity Suppose, one unit will cost 100.\n",
    "Judge and print total cost for user.11) A shop will give discount of 10% if the cost of purchased quantity is more than 1000. Ask user for quantity Suppose, one unit will cost 100.\n",
    "Judge and print total cost for user."
   ]
  },
  {
   "cell_type": "code",
   "execution_count": 14,
   "id": "500f4787-7011-40b6-a8e7-ed262f1ac18a",
   "metadata": {},
   "outputs": [
    {
     "name": "stdin",
     "output_type": "stream",
     "text": [
      "Enter the quantity of units:  900\n"
     ]
    },
    {
     "name": "stdout",
     "output_type": "stream",
     "text": [
      "The total cost for 900 units is RS 81000.00\n"
     ]
    }
   ],
   "source": [
    "quantity = int(input(\"Enter the quantity of units: \"))\n",
    "unit_cost = 100\n",
    "total_cost = quantity * unit_cost\n",
    "\n",
    "if total_cost > 1000:\n",
    "    discount = 0.1 * total_cost  \n",
    "    total_cost -= discount \n",
    "print(f\"The total cost for {quantity} units is RS {total_cost:.2f}\")"
   ]
  },
  {
   "cell_type": "markdown",
   "id": "f99208b8-f7f7-4435-9bb1-3c3f026e5fea",
   "metadata": {},
   "source": [
    "12) A school has following rules for grading system:\n",
    "a. Below 25 - F\n",
    "b. 25 to 45 - E\n",
    "c. 45 to 50 - D\n",
    "d. 50 to 60 - C\n",
    "e. 60 to 80 - B\n",
    "f. Above 80 - A\n",
    "Ask user to enter marks and print the corresponding grade."
   ]
  },
  {
   "cell_type": "code",
   "execution_count": 16,
   "id": "5ab5c06c-f7cd-4bd1-b615-20086cc30828",
   "metadata": {},
   "outputs": [
    {
     "name": "stdin",
     "output_type": "stream",
     "text": [
      "Enter the marks obtained:  95\n"
     ]
    },
    {
     "name": "stdout",
     "output_type": "stream",
     "text": [
      "The corresponding grade for 95.0 marks is: A\n"
     ]
    }
   ],
   "source": [
    "marks = float(input(\"Enter the marks obtained: \"))\n",
    "\n",
    "if marks < 25:\n",
    "    grade = 'F'\n",
    "elif marks >= 25 and marks < 45:\n",
    "    grade = 'E'\n",
    "elif marks >= 45 and marks < 50:\n",
    "    grade = 'D'\n",
    "elif marks >= 50 and marks < 60:\n",
    "    grade = 'C'\n",
    "elif marks >= 60 and marks < 80:\n",
    "    grade = 'B'\n",
    "else:\n",
    "    grade = 'A'\n",
    "\n",
    "print(f\"The corresponding grade for {marks} marks is: {grade}\")\n"
   ]
  },
  {
   "cell_type": "markdown",
   "id": "da857e7c-67d2-48e1-a802-a2603ea0c345",
   "metadata": {},
   "source": [
    "14)A student will not be allowed to sit in exam if his/her attendence is less than 75%.\n",
    "Take following input from user\n",
    "Number of classes held\n",
    "Number of classes attended.\n",
    "And print\n",
    "percentage of class attended\n",
    "Is student is allowed to sit in exam or not."
   ]
  },
  {
   "cell_type": "code",
   "execution_count": 20,
   "id": "56cdcb21-b703-457e-9d27-8d684462712b",
   "metadata": {},
   "outputs": [
    {
     "name": "stdin",
     "output_type": "stream",
     "text": [
      "Enter the number of classes held:  75\n",
      "Enter the number of classes attended:  73\n"
     ]
    },
    {
     "name": "stdout",
     "output_type": "stream",
     "text": [
      "Attendance: 97.33%\n",
      "The student is allowed to sit in the exam.\n"
     ]
    }
   ],
   "source": [
    "classes_held = int(input(\"Enter the number of classes held: \"))\n",
    "classes_attended = int(input(\"Enter the number of classes attended: \"))\n",
    "attendance_percentage = (classes_attended / classes_held) * 100\n",
    "if attendance_percentage >= 75:\n",
    "    print(f\"Attendance: {attendance_percentage:.2f}%\")\n",
    "    print(\"The student is allowed to sit in the exam.\")\n",
    "else:\n",
    "    print(f\"Attendance: {attendance_percentage:.2f}%\")\n",
    "    print(\"The student is not allowed to sit in the exam due to low attendance.\")"
   ]
  },
  {
   "cell_type": "markdown",
   "id": "16cb46f1-6957-4ed7-b221-434522570718",
   "metadata": {},
   "source": [
    "5) Modify the above question to allow student to sit if he/she has medical cause. Ask user if he/she has medical cause or not ( 'Y' or 'N' ) and\n",
    "print accordingly."
   ]
  },
  {
   "cell_type": "code",
   "execution_count": 24,
   "id": "3fe71987-6f1d-4d78-b65f-081ae40059a5",
   "metadata": {},
   "outputs": [
    {
     "name": "stdin",
     "output_type": "stream",
     "text": [
      "Enter the number of classes held:  79\n",
      "Enter the number of classes attended:  55\n",
      "Do you have a medical cause? (Enter 'Y' for Yes or 'N' for No):  N\n"
     ]
    },
    {
     "name": "stdout",
     "output_type": "stream",
     "text": [
      "Attendance: 69.62%\n",
      "The student is not allowed to sit in the exam due to low attendance.\n"
     ]
    }
   ],
   "source": [
    "classes_held = int(input(\"Enter the number of classes held: \"))\n",
    "classes_attended = int(input(\"Enter the number of classes attended: \"))\n",
    "attendance_percentage = (classes_attended / classes_held) * 100\n",
    "medical_cause = input(\"Do you have a medical cause? (Enter 'Y' for Yes or 'N' for No): \")\n",
    "if medical_cause.upper() == 'Y':\n",
    "    print(\"The student has a medical cause. Allowed to sit in the exam.\")\n",
    "elif attendance_percentage >= 75:\n",
    "    print(f\"Attendance: {attendance_percentage:.2f}%\")\n",
    "    print(\"The student is allowed to sit in the exam.\")\n",
    "else:\n",
    "    print(f\"Attendance: {attendance_percentage:.2f}%\")\n",
    "    print(\"The student is not allowed to sit in the exam due to low attendance.\")"
   ]
  },
  {
   "cell_type": "markdown",
   "id": "8cfcd12e-3e03-4448-9fbc-7d1c2d61c745",
   "metadata": {},
   "source": [
    "16) Write a program to check if a year is leap year or not.\n",
    "If a year is divisible by 4 then it is leap year but if the year is century year like 2000, 1900, 2100 then it must be divisible by 400.16)"
   ]
  },
  {
   "cell_type": "code",
   "execution_count": 26,
   "id": "fb8a306b-d779-46b2-bf13-d5251da40dce",
   "metadata": {},
   "outputs": [
    {
     "name": "stdin",
     "output_type": "stream",
     "text": [
      "Enter a year:  2024\n"
     ]
    },
    {
     "name": "stdout",
     "output_type": "stream",
     "text": [
      "2024 is a leap year.\n"
     ]
    }
   ],
   "source": [
    "year = int(input(\"Enter a year: \"))\n",
    "if (year % 4 == 0 and year % 100 != 0) or (year % 400 == 0):\n",
    "    print(f\"{year} is a leap year.\")\n",
    "else:\n",
    "    print(f\"{year} is not a leap year.\")"
   ]
  },
  {
   "cell_type": "markdown",
   "id": "44a79ffe-2e2f-443f-bb02-c2201564ed8a",
   "metadata": {},
   "source": [
    "17) Ask user to enter age, gender ( M or F ), marital status ( Y or N ) and then using following rules print their place of service.\n",
    "if employee is female, then she will work only in urban areas.\n",
    "if employee is a male and age is in between 20 to 40 then he may work in anywhere\n",
    "if employee is male and age is in between 40 t0 60 then he will work in urban areas only.\n",
    "And any other input of age should print \"ERROR\""
   ]
  },
  {
   "cell_type": "code",
   "execution_count": 29,
   "id": "b015a7d3-8cfe-4333-bb9d-d4db887cc140",
   "metadata": {},
   "outputs": [
    {
     "name": "stdin",
     "output_type": "stream",
     "text": [
      "Enter age:  29\n",
      "Enter gender (M or F):  f\n",
      "Enter marital status (Y or N):  y\n"
     ]
    },
    {
     "name": "stdout",
     "output_type": "stream",
     "text": [
      "Place of service: Urban areas\n"
     ]
    }
   ],
   "source": [
    "age = int(input(\"Enter age: \"))\n",
    "gender = input(\"Enter gender (M or F): \").upper()\n",
    "marital_status = input(\"Enter marital status (Y or N): \").upper()\n",
    "\n",
    "if gender == 'F':\n",
    "    print(\"Place of service: Urban areas\")\n",
    "elif gender == 'M':\n",
    "    if age >= 20 and age <= 40:\n",
    "        print(\"Place of service: Anywhere\")\n",
    "    elif age > 40 and age <= 60:\n",
    "        print(\"Place of service: Urban areas\")\n",
    "    else:\n",
    "        print(\"ERROR\")\n",
    "else:\n",
    "    print(\"ERROR\")"
   ]
  },
  {
   "cell_type": "markdown",
   "id": "78c3442b-6575-4572-ac56-05a151bb9d9c",
   "metadata": {},
   "source": [
    "6) Write a program to calculate the electricity bill (accept number of unit from user) according to the following criteria : Unit Price\n",
    "uptp 100 units no charge Next 200 units Rs 5 per unit After 200 units Rs 10 per unit (For example if input unit is 350 than total bill amount is\n",
    "Rs.3500 (For example if input unit is 97 than total bill amount is Rs.0 (For example if input unit is 150 than total bill amount is Rs.750"
   ]
  },
  {
   "cell_type": "code",
   "execution_count": 32,
   "id": "cfbd19e9-0338-4e6e-a5fe-3dfc18b75987",
   "metadata": {},
   "outputs": [
    {
     "name": "stdin",
     "output_type": "stream",
     "text": [
      "Enter the number of units:  300\n"
     ]
    },
    {
     "name": "stdout",
     "output_type": "stream",
     "text": [
      "The total bill amount is Rs.1000\n"
     ]
    }
   ],
   "source": [
    "units = int(input(\"Enter the number of units: \"))\n",
    "\n",
    "if units <= 100:\n",
    "    bill_amount = 0  \n",
    "elif units <= 300:\n",
    "    bill_amount = (units - 100) * 5  \n",
    "else:\n",
    "    bill_amount = 200 * 5 + (units - 300) * 10  \n",
    "\n",
    "print(f\"The total bill amount is Rs.{bill_amount}\")"
   ]
  },
  {
   "cell_type": "markdown",
   "id": "21345efc-24bf-49b1-9376-d6f3795dffbd",
   "metadata": {},
   "source": [
    "13) Take input of age of 3 people by user and determine oldest and youngest among them."
   ]
  },
  {
   "cell_type": "code",
   "execution_count": 34,
   "id": "edae171a-c972-4fcb-bed9-06e5f44986a9",
   "metadata": {},
   "outputs": [
    {
     "name": "stdin",
     "output_type": "stream",
     "text": [
      "Enter age of person 1:  20\n",
      "Enter age of person 2:  25\n",
      "Enter age of person 3:  30\n"
     ]
    },
    {
     "name": "stdout",
     "output_type": "stream",
     "text": [
      "The oldest person is 30 years old.\n",
      "The youngest person is 20 years old.\n"
     ]
    }
   ],
   "source": [
    "ages = []\n",
    "\n",
    "for i in range(3):\n",
    "    age = (input(f\"Enter age of person {i + 1}: \"))\n",
    "    ages.append(age)\n",
    "\n",
    "oldest = max(ages)\n",
    "youngest = min(ages)\n",
    "\n",
    "print(f\"The oldest person is {oldest} years old.\")\n",
    "print(f\"The youngest person is {youngest} years old.\")"
   ]
  },
  {
   "cell_type": "code",
   "execution_count": null,
   "id": "6ad20a65-b1b1-45e8-9585-a3d12080287c",
   "metadata": {},
   "outputs": [],
   "source": []
  }
 ],
 "metadata": {
  "kernelspec": {
   "display_name": "Python 3 (ipykernel)",
   "language": "python",
   "name": "python3"
  },
  "language_info": {
   "codemirror_mode": {
    "name": "ipython",
    "version": 3
   },
   "file_extension": ".py",
   "mimetype": "text/x-python",
   "name": "python",
   "nbconvert_exporter": "python",
   "pygments_lexer": "ipython3",
   "version": "3.12.1"
  }
 },
 "nbformat": 4,
 "nbformat_minor": 5
}
